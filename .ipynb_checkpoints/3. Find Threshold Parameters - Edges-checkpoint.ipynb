{
 "cells": [
  {
   "cell_type": "code",
   "execution_count": 1,
   "metadata": {
    "collapsed": true
   },
   "outputs": [],
   "source": [
    "import os\n",
    "import numpy as np\n",
    "import cv2\n",
    "import glob\n",
    "import matplotlib.pyplot as plt\n",
    "%matplotlib inline\n",
    "import math\n",
    "from ipywidgets import widgets, Checkbox, FloatSlider, IntSlider, IntRangeSlider, FloatRangeSlider, RadioButtons\n",
    "from IPython.core.display import clear_output, display\n",
    "\n",
    "from moviepy.editor import VideoFileClip\n",
    "from IPython.display import HTML\n",
    "\n",
    "# from image_pipeline import Operation, Color, Sobel, Magnitude, Direction, \\\n",
    "#   Threshold, Combinator, FindLinesSlidingWindows, Annotate, ImagePipeline"
   ]
  },
  {
   "cell_type": "code",
   "execution_count": 5,
   "metadata": {
    "collapsed": true
   },
   "outputs": [],
   "source": [
    "ip = ImagePipeline(input_color='bgr')\n",
    "ip.calibrate(glob.glob('camera_cal/calibration*.jpg'))\n",
    "mtx = ip.mtx\n",
    "dist = ip.dist"
   ]
  },
  {
   "cell_type": "code",
   "execution_count": 39,
   "metadata": {
    "collapsed": false,
    "scrolled": false
   },
   "outputs": [
    {
     "data": {
      "application/vnd.jupyter.widget-view+json": {
       "model_id": "8c2dfcfb2801405d8ff27acea7bbc5a6"
      }
     },
     "metadata": {},
     "output_type": "display_data"
    },
    {
     "data": {
      "application/vnd.jupyter.widget-view+json": {
       "model_id": "315bed28fc60448186496c412de272f1"
      }
     },
     "metadata": {},
     "output_type": "display_data"
    },
    {
     "data": {
      "application/vnd.jupyter.widget-view+json": {
       "model_id": "f194bc51d4d146cea3ebdb6f2534e614"
      }
     },
     "metadata": {},
     "output_type": "display_data"
    },
    {
     "data": {
      "application/vnd.jupyter.widget-view+json": {
       "model_id": "6c2b778fc22540ad88ec3e30b1bf38cd"
      }
     },
     "metadata": {},
     "output_type": "display_data"
    },
    {
     "data": {
      "application/vnd.jupyter.widget-view+json": {
       "model_id": "065222f9780b4367b2d9185108869287"
      }
     },
     "metadata": {},
     "output_type": "display_data"
    },
    {
     "data": {
      "application/vnd.jupyter.widget-view+json": {
       "model_id": "de75f25ff51848a096e8fbafa9690632"
      }
     },
     "metadata": {},
     "output_type": "display_data"
    },
    {
     "data": {
      "application/vnd.jupyter.widget-view+json": {
       "model_id": "a61066b9bae14252b760f96c9c1354ae"
      }
     },
     "metadata": {},
     "output_type": "display_data"
    },
    {
     "data": {
      "application/vnd.jupyter.widget-view+json": {
       "model_id": "f414f6eec3c44cbc9b36a1f35709c4ee"
      }
     },
     "metadata": {},
     "output_type": "display_data"
    },
    {
     "data": {
      "application/vnd.jupyter.widget-view+json": {
       "model_id": "c3eaf66ba35b4f5f874271be424b59d0"
      }
     },
     "metadata": {},
     "output_type": "display_data"
    },
    {
     "data": {
      "application/vnd.jupyter.widget-view+json": {
       "model_id": "4dedcc57a80f4e3a9cd0f419c7a1b8bb"
      }
     },
     "metadata": {},
     "output_type": "display_data"
    },
    {
     "data": {
      "application/vnd.jupyter.widget-view+json": {
       "model_id": "dc98149398d44914b091a9f35da61cec"
      }
     },
     "metadata": {},
     "output_type": "display_data"
    },
    {
     "data": {
      "application/vnd.jupyter.widget-view+json": {
       "model_id": "1dab31a55fe34708b9e6c65d66153b47"
      }
     },
     "metadata": {},
     "output_type": "display_data"
    },
    {
     "data": {
      "application/vnd.jupyter.widget-view+json": {
       "model_id": "723eb045b0ef4023b763b69b5623c9c9"
      }
     },
     "metadata": {},
     "output_type": "display_data"
    },
    {
     "data": {
      "application/vnd.jupyter.widget-view+json": {
       "model_id": "d99d6d630707486b966e36a8034ae375"
      }
     },
     "metadata": {},
     "output_type": "display_data"
    },
    {
     "data": {
      "application/vnd.jupyter.widget-view+json": {
       "model_id": "cd49c18907794443bbd21579bd51db4c"
      }
     },
     "metadata": {},
     "output_type": "display_data"
    },
    {
     "data": {
      "application/vnd.jupyter.widget-view+json": {
       "model_id": "e2b98bb5c3bb44f2812563b7e0cd714c"
      }
     },
     "metadata": {},
     "output_type": "display_data"
    },
    {
     "data": {
      "application/vnd.jupyter.widget-view+json": {
       "model_id": "e57b5be2289d455aac43f18460e0dbcd"
      }
     },
     "metadata": {},
     "output_type": "display_data"
    },
    {
     "data": {
      "application/vnd.jupyter.widget-view+json": {
       "model_id": "0d4b01f90ada4f608aaea303e55d41e3"
      }
     },
     "metadata": {},
     "output_type": "display_data"
    },
    {
     "data": {
      "application/vnd.jupyter.widget-view+json": {
       "model_id": "b64a25ad10e841a0bea280fea270579d"
      }
     },
     "metadata": {},
     "output_type": "display_data"
    },
    {
     "data": {
      "application/vnd.jupyter.widget-view+json": {
       "model_id": "3d5cb5a234db413dbf22e43a47a0f93a"
      }
     },
     "metadata": {},
     "output_type": "display_data"
    },
    {
     "data": {
      "application/vnd.jupyter.widget-view+json": {
       "model_id": "77740929879649e895adf5c806937e64"
      }
     },
     "metadata": {},
     "output_type": "display_data"
    },
    {
     "data": {
      "application/vnd.jupyter.widget-view+json": {
       "model_id": "fa1f4749d8df4230bcbb11d7a4808bf9"
      }
     },
     "metadata": {},
     "output_type": "display_data"
    },
    {
     "ename": "error",
     "evalue": "..\\..\\..\\modules\\core\\src\\arithm.cpp:1906: error: (-209) The lower bounary is neither an array of the same size and same type as src, nor a scalar in function cv::inRange\n",
     "output_type": "error",
     "traceback": [
      "\u001b[1;31m---------------------------------------------------------------------------\u001b[0m",
      "\u001b[1;31merror\u001b[0m                                     Traceback (most recent call last)",
      "\u001b[1;32m<ipython-input-39-ecff561d3362>\u001b[0m in \u001b[0;36m<module>\u001b[1;34m()\u001b[0m\n\u001b[0;32m    169\u001b[0m         \u001b[0msobel_x_i\u001b[0m\u001b[1;33m,\u001b[0m \u001b[0msobel_y_i\u001b[0m\u001b[1;33m,\u001b[0m \u001b[0msobel_x_kernel_i\u001b[0m\u001b[1;33m,\u001b[0m \u001b[0msobel_y_kernel_i\u001b[0m\u001b[1;33m,\u001b[0m \u001b[0mcombiner_i\u001b[0m\u001b[1;33m,\u001b[0m\u001b[1;33m\u001b[0m\u001b[0m\n\u001b[0;32m    170\u001b[0m         mag_or_sobel_range_i, dir_range_i)\n\u001b[1;32m--> 171\u001b[1;33m \u001b[0madjust_thresholds\u001b[0m\u001b[1;33m(\u001b[0m\u001b[1;33m)\u001b[0m\u001b[1;33m\u001b[0m\u001b[0m\n\u001b[0m",
      "\u001b[1;32m<ipython-input-39-ecff561d3362>\u001b[0m in \u001b[0;36madjust_thresholds\u001b[1;34m(change)\u001b[0m\n\u001b[0;32m    101\u001b[0m         \u001b[0mname\u001b[0m \u001b[1;33m=\u001b[0m \u001b[0mos\u001b[0m\u001b[1;33m.\u001b[0m\u001b[0mpath\u001b[0m\u001b[1;33m.\u001b[0m\u001b[0mbasename\u001b[0m\u001b[1;33m(\u001b[0m\u001b[0mfname\u001b[0m\u001b[1;33m)\u001b[0m\u001b[1;33m\u001b[0m\u001b[0m\n\u001b[0;32m    102\u001b[0m         \u001b[0mimg\u001b[0m \u001b[1;33m=\u001b[0m \u001b[0mcv2\u001b[0m\u001b[1;33m.\u001b[0m\u001b[0mimread\u001b[0m\u001b[1;33m(\u001b[0m\u001b[0mfname\u001b[0m\u001b[1;33m)\u001b[0m\u001b[1;33m\u001b[0m\u001b[0m\n\u001b[1;32m--> 103\u001b[1;33m         \u001b[0mprocessed\u001b[0m \u001b[1;33m=\u001b[0m \u001b[0mip\u001b[0m\u001b[1;33m.\u001b[0m\u001b[0mprocess\u001b[0m\u001b[1;33m(\u001b[0m\u001b[0mimg\u001b[0m\u001b[1;33m)\u001b[0m\u001b[1;33m\u001b[0m\u001b[0m\n\u001b[0m\u001b[0;32m    104\u001b[0m \u001b[1;33m\u001b[0m\u001b[0m\n\u001b[0;32m    105\u001b[0m         \u001b[0max\u001b[0m \u001b[1;33m=\u001b[0m \u001b[0mfig\u001b[0m\u001b[1;33m.\u001b[0m\u001b[0madd_subplot\u001b[0m\u001b[1;33m(\u001b[0m\u001b[0mrows\u001b[0m\u001b[1;33m,\u001b[0m \u001b[0mcols\u001b[0m\u001b[1;33m,\u001b[0m \u001b[0mi\u001b[0m\u001b[1;33m+\u001b[0m\u001b[1;36m1\u001b[0m\u001b[1;33m)\u001b[0m\u001b[1;33m\u001b[0m\u001b[0m\n",
      "\u001b[1;32m<ipython-input-33-dd34d1d5be06>\u001b[0m in \u001b[0;36mprocess\u001b[1;34m(self, img)\u001b[0m\n\u001b[0;32m    589\u001b[0m         \u001b[1;32mfor\u001b[0m \u001b[0mo\u001b[0m \u001b[1;32min\u001b[0m \u001b[0mself\u001b[0m\u001b[1;33m.\u001b[0m\u001b[0moperations\u001b[0m\u001b[1;33m:\u001b[0m\u001b[1;33m\u001b[0m\u001b[0m\n\u001b[0;32m    590\u001b[0m             \u001b[1;32mif\u001b[0m \u001b[0mo\u001b[0m\u001b[1;33m.\u001b[0m\u001b[0mtype\u001b[0m \u001b[1;33m==\u001b[0m \u001b[0mTYPE_THRESHOLD\u001b[0m\u001b[1;33m:\u001b[0m\u001b[1;33m\u001b[0m\u001b[0m\n\u001b[1;32m--> 591\u001b[1;33m                 \u001b[0mimgs\u001b[0m\u001b[1;33m.\u001b[0m\u001b[0mappend\u001b[0m\u001b[1;33m(\u001b[0m\u001b[0mo\u001b[0m\u001b[1;33m.\u001b[0m\u001b[0mprocess\u001b[0m\u001b[1;33m(\u001b[0m\u001b[0mimg\u001b[0m\u001b[1;33m)\u001b[0m\u001b[1;33m)\u001b[0m\u001b[1;33m\u001b[0m\u001b[0m\n\u001b[0m\u001b[0;32m    592\u001b[0m             \u001b[1;32melif\u001b[0m \u001b[0mo\u001b[0m\u001b[1;33m.\u001b[0m\u001b[0mtype\u001b[0m \u001b[1;33m==\u001b[0m \u001b[0mTYPE_AGGREGATOR\u001b[0m\u001b[1;33m:\u001b[0m\u001b[1;33m\u001b[0m\u001b[0m\n\u001b[0;32m    593\u001b[0m                 \u001b[0mimg\u001b[0m \u001b[1;33m=\u001b[0m \u001b[0mo\u001b[0m\u001b[1;33m.\u001b[0m\u001b[0mprocess\u001b[0m\u001b[1;33m(\u001b[0m\u001b[0mimgs\u001b[0m\u001b[1;33m)\u001b[0m\u001b[1;33m\u001b[0m\u001b[0m\n",
      "\u001b[1;32m<ipython-input-33-dd34d1d5be06>\u001b[0m in \u001b[0;36mprocess\u001b[1;34m(self, img)\u001b[0m\n\u001b[0;32m    160\u001b[0m                     \u001b[0mself\u001b[0m\u001b[1;33m.\u001b[0m\u001b[0mcrop_l\u001b[0m\u001b[1;33m:\u001b[0m\u001b[1;33m(\u001b[0m\u001b[0mimg\u001b[0m\u001b[1;33m.\u001b[0m\u001b[0mshape\u001b[0m\u001b[1;33m[\u001b[0m\u001b[1;36m1\u001b[0m\u001b[1;33m]\u001b[0m\u001b[1;33m-\u001b[0m\u001b[0mself\u001b[0m\u001b[1;33m.\u001b[0m\u001b[0mcrop_r\u001b[0m\u001b[1;33m)\u001b[0m\u001b[1;33m]\u001b[0m \u001b[1;33m=\u001b[0m \u001b[0mop\u001b[0m\u001b[1;33m.\u001b[0m\u001b[0mprocess\u001b[0m\u001b[1;33m(\u001b[0m\u001b[1;33m\u001b[0m\u001b[0m\n\u001b[0;32m    161\u001b[0m                         img[self.crop_t:(img.shape[0]-self.crop_b),\n\u001b[1;32m--> 162\u001b[1;33m                             self.crop_l:(img.shape[1]-self.crop_r),:])\n\u001b[0m\u001b[0;32m    163\u001b[0m                 \u001b[0mimg\u001b[0m \u001b[1;33m=\u001b[0m \u001b[0mres\u001b[0m\u001b[1;33m\u001b[0m\u001b[0m\n\u001b[0;32m    164\u001b[0m             \u001b[1;32melif\u001b[0m \u001b[0mtype\u001b[0m\u001b[1;33m(\u001b[0m\u001b[0mop\u001b[0m\u001b[1;33m)\u001b[0m \u001b[1;33m==\u001b[0m \u001b[0mSobel\u001b[0m\u001b[1;33m:\u001b[0m\u001b[1;33m\u001b[0m\u001b[0m\n",
      "\u001b[1;32m<ipython-input-33-dd34d1d5be06>\u001b[0m in \u001b[0;36mprocess\u001b[1;34m(self, img)\u001b[0m\n\u001b[0;32m     69\u001b[0m             \u001b[1;32mif\u001b[0m \u001b[0mhasattr\u001b[0m\u001b[1;33m(\u001b[0m\u001b[0mself\u001b[0m\u001b[1;33m.\u001b[0m\u001b[0min_range\u001b[0m\u001b[1;33m[\u001b[0m\u001b[1;36m1\u001b[0m\u001b[1;33m]\u001b[0m\u001b[1;33m,\u001b[0m \u001b[1;34m'__call__'\u001b[0m\u001b[1;33m)\u001b[0m\u001b[1;33m:\u001b[0m\u001b[1;33m\u001b[0m\u001b[0m\n\u001b[0;32m     70\u001b[0m                 \u001b[0mp2\u001b[0m \u001b[1;33m=\u001b[0m \u001b[0mself\u001b[0m\u001b[1;33m.\u001b[0m\u001b[0min_range\u001b[0m\u001b[1;33m[\u001b[0m\u001b[1;36m1\u001b[0m\u001b[1;33m]\u001b[0m\u001b[1;33m(\u001b[0m\u001b[0mch\u001b[0m\u001b[1;33m)\u001b[0m\u001b[1;33m\u001b[0m\u001b[0m\n\u001b[1;32m---> 71\u001b[1;33m             \u001b[0mch\u001b[0m \u001b[1;33m=\u001b[0m \u001b[0mcv2\u001b[0m\u001b[1;33m.\u001b[0m\u001b[0minRange\u001b[0m\u001b[1;33m(\u001b[0m\u001b[0mch\u001b[0m\u001b[1;33m,\u001b[0m \u001b[0mp1\u001b[0m\u001b[1;33m,\u001b[0m \u001b[0mp2\u001b[0m\u001b[1;33m)\u001b[0m\u001b[1;33m\u001b[0m\u001b[0m\n\u001b[0m\u001b[0;32m     72\u001b[0m         \u001b[1;32mif\u001b[0m \u001b[0mself\u001b[0m\u001b[1;33m.\u001b[0m\u001b[0mgray\u001b[0m\u001b[1;33m:\u001b[0m\u001b[1;33m\u001b[0m\u001b[0m\n\u001b[0;32m     73\u001b[0m             \u001b[0mch\u001b[0m \u001b[1;33m=\u001b[0m \u001b[0mnp\u001b[0m\u001b[1;33m.\u001b[0m\u001b[0mmean\u001b[0m\u001b[1;33m(\u001b[0m\u001b[0mch\u001b[0m\u001b[1;33m,\u001b[0m \u001b[1;36m2\u001b[0m\u001b[1;33m)\u001b[0m\u001b[1;33m\u001b[0m\u001b[0m\n",
      "\u001b[1;31merror\u001b[0m: ..\\..\\..\\modules\\core\\src\\arithm.cpp:1906: error: (-209) The lower bounary is neither an array of the same size and same type as src, nor a scalar in function cv::inRange\n"
     ]
    },
    {
     "data": {
      "text/plain": [
       "<matplotlib.figure.Figure at 0x1dcaeaabc50>"
      ]
     },
     "metadata": {},
     "output_type": "display_data"
    }
   ],
   "source": [
    "def adjust_thresholds(change=None):\n",
    "    \"\"\"\n",
    "    combiner values: \"dir\", \"mag\", None\n",
    "    \"\"\"\n",
    "    r=r_i.value\n",
    "    g=g_i.value\n",
    "    b=b_i.value\n",
    "    h=h_i.value\n",
    "    l=l_i.value\n",
    "    s=s_i.value\n",
    "    y=y_i.value\n",
    "    u=u_i.value\n",
    "    v=v_i.value\n",
    "    sobel_x=sobel_x_i.value\n",
    "    sobel_y=sobel_y_i.value\n",
    "    sobel_x_kernel=sobel_y_i.value\n",
    "    sobel_y_kernel=sobel_y_kernel_i.value\n",
    "    combiner=combiner_i.value\n",
    "    mag_or_sobel_range=mag_or_sobel_range_i.value\n",
    "    dir_range=dir_range_i.value\n",
    "    inrange_min1 = inrange_min1_i.value\n",
    "    inrange_min2 = inrange_min2_i.value\n",
    "    inrange_min3 = inrange_min3_i.value\n",
    "    inrange_max1 = inrange_max1_i.value\n",
    "    inrange_max2 = inrange_max2_i.value\n",
    "    inrange_max3 = inrange_max3_i.value\n",
    "    \n",
    "    ip = ImagePipeline(input_color='bgr')\n",
    "    # ip.calibrate(glob.glob('camera_cal/calibration*.jpg'))\n",
    "    ip.mtx = mtx\n",
    "    ip.dist = dist\n",
    "\n",
    "    src = np.float32([[  100.,   719.],\n",
    "                      [  542.,   470.],\n",
    "                      [  738.,   470.],\n",
    "                      [ 1180.,   719.]])\n",
    "\n",
    "    dst = np.float32([[ 120.,  720.],\n",
    "                      [ 120.,    0.],\n",
    "                      [ 1160.,    0.],\n",
    "                      [ 1160.,  720.]])\n",
    "\n",
    "    ip.set_perspective(src, dst)\n",
    "            \n",
    "    if combiner == 'dir':\n",
    "        t = Threshold(trange=dir_range, crop_b=50)\n",
    "    else:\n",
    "        t = Threshold(trange=mag_or_sobel_range, crop_b=50)\n",
    "        \n",
    "    cc = []\n",
    "    if r:\n",
    "        cc.append('r')\n",
    "    if g:\n",
    "        cc.append('g')\n",
    "    if b:\n",
    "        cc.append('b')\n",
    "    if h:\n",
    "        cc.append('h')\n",
    "    if l:\n",
    "        cc.append('l')\n",
    "    if s:\n",
    "        cc.append('s')\n",
    "    if y:\n",
    "        cc.append('y')\n",
    "    if u:\n",
    "        cc.append('u')\n",
    "    if v:\n",
    "        cc.append('v')\n",
    "        \n",
    "    t.add(Color(cc, in_range=((inrange_min1, inrange_min2, inrange_min3),\n",
    "                              (inrange_max1, inrange_max2, inrange_max3))))\n",
    "    \n",
    "    if sobel_x:\n",
    "        t.add(Sobel('x', kernel=sobel_x_kernel))\n",
    "    \n",
    "    if sobel_y:\n",
    "        t.add(Sobel('y', kernel=sobel_y_kernel))\n",
    "        \n",
    "    if combiner == 'dir':\n",
    "        t.add(Direction())\n",
    "    elif combiner == 'mag':\n",
    "        t.add(Magnitude())\n",
    "            \n",
    "    ip.add(t)\n",
    "    c = Combinator(f=(lambda ths: np.where((ths[0] == 1))))\n",
    "    ip.add(c)\n",
    "    f = FindLinesSlidingWindows(always_recalculate=True)\n",
    "    ip.add(f)\n",
    "    \n",
    "    a = Annotate(f)\n",
    "    ip.add(a)\n",
    "    \n",
    "    test_images = glob.glob('test_images/*.jpg')\n",
    "\n",
    "    sample = test_images[8:10]\n",
    "    cols = 2\n",
    "    rows = math.ceil(float(len(sample))/cols)*2\n",
    "    fig = plt.figure(figsize=(18, 6*rows))\n",
    "    i = 0\n",
    "    for fname in sample:\n",
    "        name = os.path.basename(fname)\n",
    "        img = cv2.imread(fname)\n",
    "        processed = ip.process(img)\n",
    "        \n",
    "        ax = fig.add_subplot(rows, cols, i+1)\n",
    "        plt.imshow(processed)\n",
    "        plt.text(0, 880, name)\n",
    "        i+=1\n",
    "\n",
    "        \n",
    "        ax = fig.add_subplot(rows, cols, i+1)\n",
    "        plt.imshow(a.map)\n",
    "\n",
    "        plt.text(0, 880, \"{} processed\".format(name))\n",
    "        plt.text(640, 700, \"{:.2f}m {:.2f}m\".format(f.left_curverad_m, f.right_curverad_m), color='white', ha='center')\n",
    "        i+=1\n",
    "#     clear_output(True)\n",
    "\n",
    "\n",
    "r_i = Checkbox(description='r', value=False)\n",
    "g_i = Checkbox(description='g', value=False)\n",
    "b_i = Checkbox(description='b', value=False)\n",
    "h_i = Checkbox(description='h', value=False)\n",
    "l_i = Checkbox(description='l', value=False)\n",
    "s_i = Checkbox(description='s', value=True)\n",
    "y_i = Checkbox(description='y', value=False)\n",
    "u_i = Checkbox(description='u', value=False)\n",
    "v_i = Checkbox(description='v', value=False)\n",
    "inrange_min1_i = IntSlider(description='inrange min 1', min=0, max=255, step=1, value=0)\n",
    "inrange_min2_i = IntSlider(description='inrange min 2', min=0, max=255, step=1, value=0)\n",
    "inrange_min3_i = IntSlider(description='inrange min 3', min=0, max=255, step=1, value=0)\n",
    "inrange_max1_i = IntSlider(description='inrange max 1', min=1, max=255, step=1, value=255)\n",
    "inrange_max2_i = IntSlider(description='inrange max 2', min=1, max=255, step=1, value=255)\n",
    "inrange_max3_i = IntSlider(description='inrange max 3', min=1, max=255, step=1, value=255)\n",
    "sobel_x_i = Checkbox(description='sobel x', value=True)\n",
    "sobel_y_i = Checkbox(description='sobel y', value=True)\n",
    "sobel_x_kernel_i = IntSlider(description='sobel x kernel', min=1, max=31, step=2, value=3)\n",
    "sobel_y_kernel_i = IntSlider(description='sobel y kernel', min=1, max=31, step=2, value=3)\n",
    "combiner_i = RadioButtons(description='combiner', options=[None, 'mag', 'dir'], value='mag')\n",
    "mag_or_sobel_range_i = IntRangeSlider(description='mag or sobel range', min=0, max=512, step=1, value=[8, 137])\n",
    "dir_range_i = FloatRangeSlider(description='dir range', min=0, max=np.pi / 2, step=0.01,value=[0.7, 1.3])\n",
    "\n",
    "r_i.observe(adjust_thresholds, 'value')\n",
    "g_i.observe(adjust_thresholds, 'value')\n",
    "b_i.observe(adjust_thresholds, 'value')\n",
    "h_i.observe(adjust_thresholds, 'value')\n",
    "l_i.observe(adjust_thresholds, 'value')\n",
    "s_i.observe(adjust_thresholds, 'value')\n",
    "y_i.observe(adjust_thresholds, 'value')\n",
    "u_i.observe(adjust_thresholds, 'value')\n",
    "v_i.observe(adjust_thresholds, 'value')\n",
    "inrange_min1_i.observe(adjust_thresholds, 'value')\n",
    "inrange_min2_i.observe(adjust_thresholds, 'value')\n",
    "inrange_min3_i.observe(adjust_thresholds, 'value')\n",
    "inrange_max1_i.observe(adjust_thresholds, 'value')\n",
    "inrange_max2_i.observe(adjust_thresholds, 'value')\n",
    "inrange_max3_i.observe(adjust_thresholds, 'value')\n",
    "sobel_x_i.observe(adjust_thresholds, 'value')\n",
    "sobel_y_i.observe(adjust_thresholds, 'value')\n",
    "sobel_x_kernel_i.observe(adjust_thresholds, 'value')\n",
    "sobel_y_kernel_i.observe(adjust_thresholds, 'value')\n",
    "combiner_i.observe(adjust_thresholds, 'value')\n",
    "mag_or_sobel_range_i.observe(adjust_thresholds, 'value')\n",
    "dir_range_i.observe(adjust_thresholds, 'value')\n",
    "\n",
    "display(r_i, g_i, b_i, h_i, l_i, s_i, y_i, u_i, v_i,\n",
    "        inrange_min1_i, inrange_min2_i, inrange_min3_i,\n",
    "        inrange_max1_i, inrange_max2_i, inrange_max3_i,\n",
    "        sobel_x_i, sobel_y_i, sobel_x_kernel_i, sobel_y_kernel_i, combiner_i,\n",
    "        mag_or_sobel_range_i, dir_range_i)\n",
    "adjust_thresholds()"
   ]
  }
 ],
 "metadata": {
  "kernelspec": {
   "display_name": "Python 3",
   "language": "python",
   "name": "python3"
  },
  "language_info": {
   "codemirror_mode": {
    "name": "ipython",
    "version": 3
   },
   "file_extension": ".py",
   "mimetype": "text/x-python",
   "name": "python",
   "nbconvert_exporter": "python",
   "pygments_lexer": "ipython3",
   "version": "3.5.2"
  }
 },
 "nbformat": 4,
 "nbformat_minor": 2
}
